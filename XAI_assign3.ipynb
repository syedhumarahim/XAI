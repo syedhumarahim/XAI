{
  "cells": [
    {
      "cell_type": "markdown",
      "source": [
        "Case assigned: Loan + Defense"
      ],
      "metadata": {
        "id": "X1kHsh-hkxDH"
      },
      "id": "X1kHsh-hkxDH"
    },
    {
      "cell_type": "markdown",
      "id": "MN2ts4xtQ6ts",
      "metadata": {
        "id": "MN2ts4xtQ6ts"
      },
      "source": [
        "## ⚖️ Case 1: Loan Denial Dispute – UCI Adult Income Dataset\n",
        "#### 🔍 Scenario\n",
        "\n",
        "Jane Dow, a 37-year-old professional woman with a Bachelor's degree and full-time executive role, applied for a premium credit product. The bank’s model—trained to predict income level as a proxy for eligibility—classified her as earning ≤$50K, resulting in denial. She disputes the fairness of the decision.\n",
        "\n",
        "#### 🟥 Prosecution\n",
        "Evaluate whether the model’s decision may have been influenced by inappropriate or unfair reasoning. Explore whether the explanation aligns with what should be expected in a fair credit decision.\n",
        "\n",
        "#### 🟦 Defense\n",
        "Justify the decision based on the model’s learned patterns. Consider how well the explanation supports the classification and whether similar profiles are treated consistently."
      ]
    },
    {
      "cell_type": "code",
      "execution_count": 1,
      "id": "d3fbadd3",
      "metadata": {
        "colab": {
          "base_uri": "https://localhost:8080/"
        },
        "id": "d3fbadd3",
        "outputId": "0dc1058b-21bc-44b9-8377-80710107b933"
      },
      "outputs": [
        {
          "output_type": "stream",
          "name": "stdout",
          "text": [
            "              precision    recall  f1-score   support\n",
            "\n",
            "           0       1.00      1.00      1.00      9045\n",
            "\n",
            "    accuracy                           1.00      9045\n",
            "   macro avg       1.00      1.00      1.00      9045\n",
            "weighted avg       1.00      1.00      1.00      9045\n",
            "\n"
          ]
        }
      ],
      "source": [
        "# 📦 Case 1: Loan Approval Prediction (Adult Income Dataset)\n",
        "\n",
        "import pandas as pd\n",
        "from sklearn.model_selection import train_test_split\n",
        "from sklearn.preprocessing import LabelEncoder\n",
        "from sklearn.ensemble import RandomForestClassifier\n",
        "from sklearn.metrics import classification_report\n",
        "\n",
        "# Load Data\n",
        "from sklearn.datasets import fetch_openml\n",
        "adult = fetch_openml(name='adult', version=2, as_frame=True)\n",
        "df = adult.frame\n",
        "\n",
        "# Clean and preprocess\n",
        "df = df.dropna()\n",
        "df = df.copy()\n",
        "encoders = {}\n",
        "label_cols = df.select_dtypes(include='category').columns.tolist()\n",
        "\n",
        "for col in label_cols:\n",
        "    le = LabelEncoder()\n",
        "    df[col] = df[col].astype(str)\n",
        "    df[col] = le.fit_transform(df[col])\n",
        "    encoders[col] = le\n",
        "\n",
        "X = df.drop([\"class\", \"fnlwgt\"], axis=1)\n",
        "y = df[\"class\"].apply(lambda x: 1 if x == '>50K' else 0)\n",
        "\n",
        "X_train, X_test, y_train, y_test = train_test_split(X, y, test_size=0.2, random_state=42)\n",
        "\n",
        "# Train simple RF model\n",
        "model_adult = RandomForestClassifier(random_state=42)\n",
        "model_adult.fit(X_train, y_train)\n",
        "print(classification_report(y_test, model_adult.predict(X_test)))\n"
      ]
    },
    {
      "cell_type": "code",
      "execution_count": 2,
      "id": "9a5c7c2c",
      "metadata": {
        "colab": {
          "base_uri": "https://localhost:8080/"
        },
        "id": "9a5c7c2c",
        "outputId": "f158d68f-799f-4dd6-a6ef-915319823083"
      },
      "outputs": [
        {
          "output_type": "stream",
          "name": "stdout",
          "text": [
            "Prediction for Jane Dow (Loan Eligibility): Denied\n"
          ]
        }
      ],
      "source": [
        "# 🎯 Focus Instance: Loan Rejection Case (Jane Dow)\n",
        "\n",
        "jane_encoded = {\n",
        "    'age': 37,\n",
        "    'workclass': encoders['workclass'].transform(['Private'])[0],\n",
        "    'education': encoders['education'].transform(['Bachelors'])[0],\n",
        "    'marital-status': encoders['marital-status'].transform(['Never-married'])[0],\n",
        "    'occupation': encoders['occupation'].transform(['Exec-managerial'])[0],\n",
        "    'relationship': encoders['relationship'].transform(['Not-in-family'])[0],\n",
        "    'race': encoders['race'].transform(['White'])[0],\n",
        "    'sex': encoders['sex'].transform(['Female'])[0],\n",
        "    'hours-per-week': 50,\n",
        "    'native-country': encoders['native-country'].transform(['United-States'])[0],\n",
        "    'capital-gain': 0,\n",
        "    'capital-loss': 0,\n",
        "    'education-num': 13,\n",
        "}\n",
        "\n",
        "jane_df = pd.DataFrame([jane_encoded])\n",
        "jane_df = jane_df[X_train.columns]\n",
        "pred = model_adult.predict(jane_df)\n",
        "print(\"Prediction for Jane Dow (Loan Eligibility):\", \"Approved\" if pred[0] == 1 else \"Denied\")\n"
      ]
    },
    {
      "cell_type": "code",
      "source": [],
      "metadata": {
        "id": "Dmy2cfWVk5Rz"
      },
      "id": "Dmy2cfWVk5Rz",
      "execution_count": null,
      "outputs": []
    }
  ],
  "metadata": {
    "colab": {
      "provenance": []
    },
    "kernelspec": {
      "display_name": "Python 3",
      "name": "python3"
    },
    "language_info": {
      "name": "python"
    }
  },
  "nbformat": 4,
  "nbformat_minor": 5
}